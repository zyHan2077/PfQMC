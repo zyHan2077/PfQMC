{
 "cells": [
  {
   "cell_type": "code",
   "execution_count": 1,
   "id": "8770f8de-563b-48da-90b3-e47898ef5fc6",
   "metadata": {},
   "outputs": [],
   "source": [
    "using ITensors\n",
    "ITensors.set_warn_order(18);"
   ]
  },
  {
   "cell_type": "markdown",
   "id": "8c530411-3b07-4f1b-b902-5f5d1e4afeec",
   "metadata": {},
   "source": [
    "# DMRG for spinless t-V on Honeycomb lattice"
   ]
  },
  {
   "cell_type": "code",
   "execution_count": 2,
   "id": "18314536-d483-4a90-a1e6-c001c97919b3",
   "metadata": {},
   "outputs": [],
   "source": [
    "Lx, Ly = 2, 2;\n",
    "t = 1.0;\n",
    "nTot = Lx*Ly*2\n",
    "sites = siteinds(\"Fermion\", Lx*Ly*2; conserve_qns=true);\n",
    "state = [\"Emp\" for n in 1:Lx*Ly*2]\n",
    "for i in 1:Lx*Ly\n",
    "    state[i] = \"Occ\" # start from half filled\n",
    "end\n",
    "\n",
    "psi0 = randomMPS(sites, state, 10);\n",
    "nsweeps = 6\n",
    "maxdim = [50, 100, 200, 400, 800, 800]\n",
    "cutoff = [1E-12];\n",
    "\n",
    "function site2Idx(ix, iy, iu)\n",
    "    return Lx*Ly*(iu) + (ix)*Ly + iy + 1\n",
    "end;\n",
    "\n",
    "cb=combiner(dag(sites)...);\n",
    "cbp=combiner(sites'...);"
   ]
  },
  {
   "cell_type": "code",
   "execution_count": 8,
   "id": "fd86c832-56d3-4857-92e9-4adce8948f96",
   "metadata": {},
   "outputs": [
    {
     "data": {
      "text/plain": [
       "eFromV (generic function with 2 methods)"
      ]
     },
     "execution_count": 8,
     "metadata": {},
     "output_type": "execute_result"
    }
   ],
   "source": [
    "function eFromV(v, ed=false)\n",
    "    os = OpSum();\n",
    "    for ix in 0:Lx-1\n",
    "        for iy in 0:Ly-1\n",
    "            os += -t, \"Cdag\", site2Idx(ix, iy, 0), \"C\", site2Idx(ix, iy, 1)\n",
    "            os += -t, \"Cdag\", site2Idx(ix, iy, 1), \"C\", site2Idx(ix, iy, 0)\n",
    "            os += -t, \"Cdag\", site2Idx(ix, iy, 0), \"C\", site2Idx((ix+1)%Lx, iy, 1)\n",
    "            os += -t, \"Cdag\", site2Idx((ix+1)%Lx, iy, 1), \"C\", site2Idx(ix, iy, 0)\n",
    "            os += -t, \"Cdag\", site2Idx(ix, iy, 0), \"C\", site2Idx(ix, (iy+1)%Ly, 1)\n",
    "            os += -t, \"Cdag\", site2Idx(ix, (iy+1)%Ly, 1), \"C\", site2Idx(ix, iy, 0)\n",
    "            os += v, \"N\", site2Idx(ix, iy, 0), \"N\", site2Idx(ix, iy, 1)\n",
    "            os += v, \"N\", site2Idx(ix, iy, 0), \"N\", site2Idx((ix+1)%Lx, iy, 1)\n",
    "            os += v, \"N\", site2Idx(ix, iy, 0), \"N\", site2Idx(ix, (iy+1)%Ly, 1)\n",
    "        end\n",
    "    end\n",
    "    H = MPO(os, sites);\n",
    "    energy, psi = dmrg(H, psi0; nsweeps, maxdim, cutoff, outputlevel = 0);\n",
    "    d = fill(0.0, Lx*Ly*2)\n",
    "    for j in 1:Lx*Ly*2\n",
    "        orthogonalize!(psi, j)\n",
    "        psidag_j = dag(prime(psi[j], \"Site\"))\n",
    "        d[j] = scalar(psidag_j * op(sites, \"N\", j) * psi[j])\n",
    "    end\n",
    "    # println(\"V=\", v, \" E=\", energy-0.375*nTot*v, \"\\ndensity=\", d)\n",
    "    println(\"V=\", v, \" E=\", energy-0.375*nTot*v)\n",
    "\n",
    "    if ed\n",
    "        H_ED = prod(H)*cb*cbp\n",
    "        E,V=eigen(H_ED,combinedind(cb),combinedind(cbp))\n",
    "        println(\"E from ED = \", sort(array(real(diag(E))))[1] - 0.375*nTot*v)\n",
    "    end\n",
    "end"
   ]
  },
  {
   "cell_type": "code",
   "execution_count": 9,
   "id": "e9fbeca3-cb64-4af6-9318-b3a3ba70259b",
   "metadata": {},
   "outputs": [
    {
     "name": "stdout",
     "output_type": "stream",
     "text": [
      "V=0.7 E=-6.6456706584805545\n",
      "E from ED = -6.6456706584805545\n"
     ]
    }
   ],
   "source": [
    "eFromV(0.7, true)"
   ]
  },
  {
   "cell_type": "code",
   "execution_count": null,
   "id": "a61dee13-bda4-442b-914d-80c7e26d06e4",
   "metadata": {},
   "outputs": [],
   "source": [
    "for v in 0.1:0.1:2.0\n",
    "    eFromV(v)\n",
    "end"
   ]
  },
  {
   "cell_type": "markdown",
   "id": "2c0045d2-e0e7-498d-bac2-923d904098d6",
   "metadata": {},
   "source": [
    "# DMRG for spinless t-V on Square lattice"
   ]
  },
  {
   "cell_type": "code",
   "execution_count": 18,
   "id": "2edf363d-32f1-461d-86d8-c712d9139309",
   "metadata": {},
   "outputs": [],
   "source": [
    "Lx, Ly = 6, 6;\n",
    "t = 1.0;\n",
    "sites = siteinds(\"Fermion\", Lx*Ly; conserve_qns=false);\n",
    "state = [\"Emp\" for n in 1:Lx*Ly]\n",
    "for i in 1:Int(Lx*Ly/2)\n",
    "    state[i] = \"Occ\" # start from half filled\n",
    "end\n",
    "\n",
    "psi0 = randomMPS(sites, state, 10);\n",
    "nsweeps = 6\n",
    "maxdim = [50, 100, 200, 400, 800, 800]\n",
    "cutoff = [1E-12];\n",
    "\n",
    "function site2Idx(ix, iy)\n",
    "    return (ix)*Ly + iy + 1\n",
    "end;\n",
    "\n",
    "cb=combiner(dag(sites)...);\n",
    "cbp=combiner(sites'...);"
   ]
  },
  {
   "cell_type": "code",
   "execution_count": 19,
   "id": "eebc28fe-3791-495d-b55d-e46aa349c8f5",
   "metadata": {},
   "outputs": [
    {
     "data": {
      "text/plain": [
       "eFromV (generic function with 2 methods)"
      ]
     },
     "execution_count": 19,
     "metadata": {},
     "output_type": "execute_result"
    }
   ],
   "source": [
    "function eFromV(v, delta, ed=false)\n",
    "    os = OpSum();\n",
    "    for ix in 0:Lx-1\n",
    "        for iy in 0:Ly-1\n",
    "            i, j1, j2 = site2Idx(ix, iy), site2Idx((ix+1)%Lx, iy), site2Idx(ix, (iy+1)%Ly)\n",
    "            \n",
    "            os += -t, \"Cdag\", i, \"C\", j1\n",
    "            os += -t, \"Cdag\", j1, \"C\", i\n",
    "            os += -t, \"Cdag\", i, \"C\", j2\n",
    "            os += -t, \"Cdag\", j2, \"C\", i\n",
    "\n",
    "            os += delta, \"Cdag\", j1, \"Cdag\", i\n",
    "            os += delta, \"C\", i, \"C\", j1\n",
    "            os += 1.0im * delta, \"Cdag\", j2, \"Cdag\", i\n",
    "            os += -1.0im * delta, \"C\", i, \"C\", j2\n",
    "\n",
    "            os += v, \"N\", i, \"N\", j1\n",
    "            os += v, \"N\", i, \"N\", j2\n",
    "            os += (-2.0*v), \"N\", i\n",
    "        end\n",
    "    end\n",
    "    H = MPO(os, sites);\n",
    "    energy, psi = dmrg(H, psi0; nsweeps, maxdim, cutoff, outputlevel = 0);\n",
    "    d = fill(0.0, Lx*Ly*2)\n",
    "    for j in 1:Lx*Ly\n",
    "        orthogonalize!(psi, j)\n",
    "        psidag_j = dag(prime(psi[j], \"Site\"))\n",
    "        d[j] = scalar(psidag_j * op(sites, \"N\", j) * psi[j])\n",
    "    end\n",
    "    # println(\"V=\", v, \" E=\", energy-0.375*nTot*v, \"\\ndensity=\", d)\n",
    "    println(\"V=\", v, \" E=\", energy + (0.5 * Lx * Ly * v) )\n",
    "\n",
    "    if ed\n",
    "        H_ED = prod(H)*cb*cbp\n",
    "        E,V=eigen(H_ED,combinedind(cb),combinedind(cbp))\n",
    "        println(\"E from ED = \", sort(array(real(diag(E))))[1] + 0.5*Lx*Ly*v)\n",
    "    end\n",
    "end"
   ]
  },
  {
   "cell_type": "code",
   "execution_count": 16,
   "id": "bed97ca4-6195-4001-879e-8b69245b4434",
   "metadata": {},
   "outputs": [
    {
     "name": "stdout",
     "output_type": "stream",
     "text": [
      "V=0.7 E=-16.252352023006083\n",
      "V=0.7 E=-19.97190015899954\n",
      "V=0.7 E=-24.3245301623491\n"
     ]
    }
   ],
   "source": [
    "eFromV(0.7, 0.5), eFromV(0.7, 0.9), eFromV(0.7, 1.3);"
   ]
  },
  {
   "cell_type": "code",
   "execution_count": null,
   "id": "b2db8f45-828f-4bc2-8e96-0663fd38fa36",
   "metadata": {},
   "outputs": [],
   "source": [
    "eFromV(0.7, 0.5);"
   ]
  },
  {
   "cell_type": "markdown",
   "id": "50dea29d-a2e9-410f-81df-158068b99c8d",
   "metadata": {},
   "source": [
    "# DMRG for a 1D Chain"
   ]
  },
  {
   "cell_type": "code",
   "execution_count": 21,
   "id": "e56672d7-f625-4a08-95f4-de2defa85d5e",
   "metadata": {},
   "outputs": [],
   "source": [
    "Lx = 8;\n",
    "t = 1.0;\n",
    "sites = siteinds(\"Fermion\", Lx; conserve_qns=false);\n",
    "state = [\"Emp\" for n in 1:Lx]\n",
    "\n",
    "psi0 = randomMPS(sites, state, 10);\n",
    "nsweeps = 6\n",
    "maxdim = [50, 100, 200, 400, 800, 800]\n",
    "cutoff = [1E-12];\n",
    "\n",
    "cb=combiner(dag(sites)...);\n",
    "cbp=combiner(sites'...);"
   ]
  },
  {
   "cell_type": "code",
   "execution_count": 22,
   "id": "7a253cd2-f7d1-45b9-a946-918a8dbaaf5f",
   "metadata": {},
   "outputs": [
    {
     "data": {
      "text/plain": [
       "eFromV (generic function with 2 methods)"
      ]
     },
     "execution_count": 22,
     "metadata": {},
     "output_type": "execute_result"
    }
   ],
   "source": [
    "function eFromV(v, delta, ed=false)\n",
    "    os = OpSum();\n",
    "    for ix in 1:Lx-1 # OBC\n",
    "        i, j = ix, ix+1\n",
    "        \n",
    "        os += -t, \"Cdag\", i, \"C\", j\n",
    "        os += -t, \"Cdag\", j, \"C\", i\n",
    "\n",
    "        os += delta, \"Cdag\", j, \"Cdag\", i\n",
    "        os += delta, \"C\", i, \"C\", j\n",
    "\n",
    "        os += v, \"N\", i, \"N\", j\n",
    "        if i >= 2\n",
    "            os += (-v), \"N\", i\n",
    "        end\n",
    "    end\n",
    "    os += (-0.5*v), \"N\", 1\n",
    "    os += (-0.5*v), \"N\", Lx # boundary terms\n",
    "    \n",
    "    H = MPO(os, sites);\n",
    "    energy, psi = dmrg(H, psi0; nsweeps, maxdim, cutoff, outputlevel = 1);\n",
    "    cnn = correlation_matrix(psi, \"N\", \"N\")\n",
    "    cdw2 = 0.0\n",
    "    cdw21 = 0.0\n",
    "    deltaq = 2 * pi / Lx\n",
    "    for i in 1:Lx\n",
    "        for j in 1:Lx\n",
    "            if (i+j) % 2 == 0\n",
    "                cdw2 += cnn[i, j]\n",
    "                cdw21 += cnn[i, j] * exp(1im*deltaq*(i-j))\n",
    "            else\n",
    "                cdw2 -= cnn[i, j]\n",
    "                cdw21 -= cnn[i, j] * exp(1im*deltaq*(i-j))\n",
    "            end\n",
    "        end\n",
    "    end\n",
    "    # d = fill(0.0, Lx)\n",
    "    # for j in 1:Lx\n",
    "    #     orthogonalize!(psi, j)\n",
    "    #     psidag_j = dag(prime(psi[j], \"Site\"))\n",
    "    #     d[j] = scalar(psidag_j * op(sites, \"N\", j) * psi[j])\n",
    "    # end\n",
    "    # println(\"V=\", v, \" E=\", energy-0.375*nTot*v, \"\\ndensity=\", d)\n",
    "    println(\"V=\", v, \" E=\", energy + (0.25 * (Lx - 1) * v), \" cdw2 = \", cdw2 / (Lx^2), \" cdw21 = \", cdw21 / (Lx^2))\n",
    "\n",
    "    if ed\n",
    "        H_ED = prod(H)*cb*cbp\n",
    "        E,V=eigen(H_ED,combinedind(cb),combinedind(cbp))\n",
    "        println(\"E from ED = \", sort(array(real(diag(E))))[1] + 0.5*Lx*Ly*v)\n",
    "    end\n",
    "end"
   ]
  },
  {
   "cell_type": "code",
   "execution_count": 24,
   "id": "14173e92-6bba-4242-99e2-589be914e6b7",
   "metadata": {},
   "outputs": [
    {
     "name": "stdout",
     "output_type": "stream",
     "text": [
      "After sweep 1 energy=-25.866395547346933  maxlinkdim=16 maxerr=0.00E+00 time=0.006\n",
      "After sweep 2 energy=-25.925969634372866  maxlinkdim=16 maxerr=0.00E+00 time=0.004\n",
      "After sweep 3 energy=-25.926845581425784  maxlinkdim=16 maxerr=0.00E+00 time=0.004\n",
      "After sweep 4 energy=-25.92684593360601  maxlinkdim=16 maxerr=0.00E+00 time=0.004\n",
      "After sweep 5 energy=-25.926845933621106  maxlinkdim=16 maxerr=0.00E+00 time=0.005\n",
      "After sweep 6 energy=-25.92684593362113  maxlinkdim=16 maxerr=0.00E+00 time=0.007\n",
      "V=7.0 E=-13.67684593362113 cdw2 = 0.18997083679736582 cdw21 = 0.01784827975265445 - 3.6591823321385775e-19im\n",
      "After sweep 1 energy=-8.293742919889302  maxlinkdim=15 maxerr=5.67E-15 time=0.005\n",
      "After sweep 2 energy=-8.2939635214652  maxlinkdim=13 maxerr=5.64E-13 time=0.004\n",
      "After sweep 3 energy=-8.294006601262344  maxlinkdim=13 maxerr=2.63E-13 time=0.005\n",
      "After sweep 4 energy=-8.29402901614059  maxlinkdim=12 maxerr=5.93E-13 time=0.004\n",
      "After sweep 5 energy=-8.294040625378512  maxlinkdim=12 maxerr=4.39E-13 time=0.005\n",
      "After sweep 6 energy=-8.294052419311553  maxlinkdim=12 maxerr=3.08E-13 time=0.010\n",
      "V=0.7 E=-7.069052419311554 cdw2 = 0.037995432626883305 cdw21 = 0.035560017848828916 + 8.673617379884035e-19im\n"
     ]
    },
    {
     "data": {
      "text/plain": [
       "(nothing, nothing)"
      ]
     },
     "execution_count": 24,
     "metadata": {},
     "output_type": "execute_result"
    }
   ],
   "source": [
    "eFromV(7.0, 1.0), eFromV(0.7, 1.0)"
   ]
  },
  {
   "cell_type": "code",
   "execution_count": null,
   "id": "a1735ae3-58ff-4bc3-a657-691addd5643d",
   "metadata": {},
   "outputs": [],
   "source": []
  }
 ],
 "metadata": {
  "kernelspec": {
   "display_name": "Julia 1.9.2",
   "language": "julia",
   "name": "julia-1.9"
  },
  "language_info": {
   "file_extension": ".jl",
   "mimetype": "application/julia",
   "name": "julia",
   "version": "1.9.2"
  }
 },
 "nbformat": 4,
 "nbformat_minor": 5
}
