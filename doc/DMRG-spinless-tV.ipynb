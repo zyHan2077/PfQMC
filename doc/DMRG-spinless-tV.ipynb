{
 "cells": [
  {
   "cell_type": "code",
   "execution_count": 1,
   "id": "8770f8de-563b-48da-90b3-e47898ef5fc6",
   "metadata": {},
   "outputs": [],
   "source": [
    "using ITensors\n",
    "ITensors.set_warn_order(18);"
   ]
  },
  {
   "cell_type": "markdown",
   "id": "8c530411-3b07-4f1b-b902-5f5d1e4afeec",
   "metadata": {},
   "source": [
    "# DMRG for spinless t-V on Honeycomb lattice"
   ]
  },
  {
   "cell_type": "code",
   "execution_count": 2,
   "id": "18314536-d483-4a90-a1e6-c001c97919b3",
   "metadata": {},
   "outputs": [],
   "source": [
    "Lx, Ly = 2, 2;\n",
    "t = 1.0;\n",
    "nTot = Lx*Ly*2\n",
    "sites = siteinds(\"Fermion\", Lx*Ly*2; conserve_qns=true);\n",
    "state = [\"Emp\" for n in 1:Lx*Ly*2]\n",
    "for i in 1:Lx*Ly\n",
    "    state[i] = \"Occ\" # start from half filled\n",
    "end\n",
    "\n",
    "psi0 = randomMPS(sites, state, 10);\n",
    "nsweeps = 6\n",
    "maxdim = [50, 100, 200, 400, 800, 800]\n",
    "cutoff = [1E-12];\n",
    "\n",
    "function site2Idx(ix, iy, iu)\n",
    "    return Lx*Ly*(iu) + (ix)*Ly + iy + 1\n",
    "end;\n",
    "\n",
    "cb=combiner(dag(sites)...);\n",
    "cbp=combiner(sites'...);"
   ]
  },
  {
   "cell_type": "code",
   "execution_count": 8,
   "id": "fd86c832-56d3-4857-92e9-4adce8948f96",
   "metadata": {},
   "outputs": [
    {
     "data": {
      "text/plain": [
       "eFromV (generic function with 2 methods)"
      ]
     },
     "execution_count": 8,
     "metadata": {},
     "output_type": "execute_result"
    }
   ],
   "source": [
    "function eFromV(v, ed=false)\n",
    "    os = OpSum();\n",
    "    for ix in 0:Lx-1\n",
    "        for iy in 0:Ly-1\n",
    "            os += -t, \"Cdag\", site2Idx(ix, iy, 0), \"C\", site2Idx(ix, iy, 1)\n",
    "            os += -t, \"Cdag\", site2Idx(ix, iy, 1), \"C\", site2Idx(ix, iy, 0)\n",
    "            os += -t, \"Cdag\", site2Idx(ix, iy, 0), \"C\", site2Idx((ix+1)%Lx, iy, 1)\n",
    "            os += -t, \"Cdag\", site2Idx((ix+1)%Lx, iy, 1), \"C\", site2Idx(ix, iy, 0)\n",
    "            os += -t, \"Cdag\", site2Idx(ix, iy, 0), \"C\", site2Idx(ix, (iy+1)%Ly, 1)\n",
    "            os += -t, \"Cdag\", site2Idx(ix, (iy+1)%Ly, 1), \"C\", site2Idx(ix, iy, 0)\n",
    "            os += v, \"N\", site2Idx(ix, iy, 0), \"N\", site2Idx(ix, iy, 1)\n",
    "            os += v, \"N\", site2Idx(ix, iy, 0), \"N\", site2Idx((ix+1)%Lx, iy, 1)\n",
    "            os += v, \"N\", site2Idx(ix, iy, 0), \"N\", site2Idx(ix, (iy+1)%Ly, 1)\n",
    "        end\n",
    "    end\n",
    "    H = MPO(os, sites);\n",
    "    energy, psi = dmrg(H, psi0; nsweeps, maxdim, cutoff, outputlevel = 0);\n",
    "    d = fill(0.0, Lx*Ly*2)\n",
    "    for j in 1:Lx*Ly*2\n",
    "        orthogonalize!(psi, j)\n",
    "        psidag_j = dag(prime(psi[j], \"Site\"))\n",
    "        d[j] = scalar(psidag_j * op(sites, \"N\", j) * psi[j])\n",
    "    end\n",
    "    # println(\"V=\", v, \" E=\", energy-0.375*nTot*v, \"\\ndensity=\", d)\n",
    "    println(\"V=\", v, \" E=\", energy-0.375*nTot*v)\n",
    "\n",
    "    if ed\n",
    "        H_ED = prod(H)*cb*cbp\n",
    "        E,V=eigen(H_ED,combinedind(cb),combinedind(cbp))\n",
    "        println(\"E from ED = \", sort(array(real(diag(E))))[1] - 0.375*nTot*v)\n",
    "    end\n",
    "end"
   ]
  },
  {
   "cell_type": "code",
   "execution_count": 9,
   "id": "e9fbeca3-cb64-4af6-9318-b3a3ba70259b",
   "metadata": {},
   "outputs": [
    {
     "name": "stdout",
     "output_type": "stream",
     "text": [
      "V=0.7 E=-6.6456706584805545\n",
      "E from ED = -6.6456706584805545\n"
     ]
    }
   ],
   "source": [
    "eFromV(0.7, true)"
   ]
  },
  {
   "cell_type": "code",
   "execution_count": null,
   "id": "a61dee13-bda4-442b-914d-80c7e26d06e4",
   "metadata": {},
   "outputs": [],
   "source": [
    "for v in 0.1:0.1:2.0\n",
    "    eFromV(v)\n",
    "end"
   ]
  },
  {
   "cell_type": "markdown",
   "id": "2c0045d2-e0e7-498d-bac2-923d904098d6",
   "metadata": {},
   "source": [
    "# DMRG for spinless t-V on Square lattice"
   ]
  },
  {
   "cell_type": "code",
   "execution_count": 18,
   "id": "2edf363d-32f1-461d-86d8-c712d9139309",
   "metadata": {},
   "outputs": [],
   "source": [
    "Lx, Ly = 6, 6;\n",
    "t = 1.0;\n",
    "sites = siteinds(\"Fermion\", Lx*Ly; conserve_qns=false);\n",
    "state = [\"Emp\" for n in 1:Lx*Ly]\n",
    "for i in 1:Int(Lx*Ly/2)\n",
    "    state[i] = \"Occ\" # start from half filled\n",
    "end\n",
    "\n",
    "psi0 = randomMPS(sites, state, 10);\n",
    "nsweeps = 6\n",
    "maxdim = [50, 100, 200, 400, 800, 800]\n",
    "cutoff = [1E-12];\n",
    "\n",
    "function site2Idx(ix, iy)\n",
    "    return (ix)*Ly + iy + 1\n",
    "end;\n",
    "\n",
    "cb=combiner(dag(sites)...);\n",
    "cbp=combiner(sites'...);"
   ]
  },
  {
   "cell_type": "code",
   "execution_count": 19,
   "id": "eebc28fe-3791-495d-b55d-e46aa349c8f5",
   "metadata": {},
   "outputs": [
    {
     "data": {
      "text/plain": [
       "eFromV (generic function with 2 methods)"
      ]
     },
     "execution_count": 19,
     "metadata": {},
     "output_type": "execute_result"
    }
   ],
   "source": [
    "function eFromV(v, delta, ed=false)\n",
    "    os = OpSum();\n",
    "    for ix in 0:Lx-1\n",
    "        for iy in 0:Ly-1\n",
    "            i, j1, j2 = site2Idx(ix, iy), site2Idx((ix+1)%Lx, iy), site2Idx(ix, (iy+1)%Ly)\n",
    "            \n",
    "            os += -t, \"Cdag\", i, \"C\", j1\n",
    "            os += -t, \"Cdag\", j1, \"C\", i\n",
    "            os += -t, \"Cdag\", i, \"C\", j2\n",
    "            os += -t, \"Cdag\", j2, \"C\", i\n",
    "\n",
    "            os += delta, \"Cdag\", j1, \"Cdag\", i\n",
    "            os += delta, \"C\", i, \"C\", j1\n",
    "            os += 1.0im * delta, \"Cdag\", j2, \"Cdag\", i\n",
    "            os += -1.0im * delta, \"C\", i, \"C\", j2\n",
    "\n",
    "            os += v, \"N\", i, \"N\", j1\n",
    "            os += v, \"N\", i, \"N\", j2\n",
    "            os += (-2.0*v), \"N\", i\n",
    "        end\n",
    "    end\n",
    "    H = MPO(os, sites);\n",
    "    energy, psi = dmrg(H, psi0; nsweeps, maxdim, cutoff, outputlevel = 0);\n",
    "    d = fill(0.0, Lx*Ly*2)\n",
    "    for j in 1:Lx*Ly\n",
    "        orthogonalize!(psi, j)\n",
    "        psidag_j = dag(prime(psi[j], \"Site\"))\n",
    "        d[j] = scalar(psidag_j * op(sites, \"N\", j) * psi[j])\n",
    "    end\n",
    "    # println(\"V=\", v, \" E=\", energy-0.375*nTot*v, \"\\ndensity=\", d)\n",
    "    println(\"V=\", v, \" E=\", energy + (0.5 * Lx * Ly * v) )\n",
    "\n",
    "    if ed\n",
    "        H_ED = prod(H)*cb*cbp\n",
    "        E,V=eigen(H_ED,combinedind(cb),combinedind(cbp))\n",
    "        println(\"E from ED = \", sort(array(real(diag(E))))[1] + 0.5*Lx*Ly*v)\n",
    "    end\n",
    "end"
   ]
  },
  {
   "cell_type": "code",
   "execution_count": 16,
   "id": "bed97ca4-6195-4001-879e-8b69245b4434",
   "metadata": {},
   "outputs": [
    {
     "name": "stdout",
     "output_type": "stream",
     "text": [
      "V=0.7 E=-16.252352023006083\n",
      "V=0.7 E=-19.97190015899954\n",
      "V=0.7 E=-24.3245301623491\n"
     ]
    }
   ],
   "source": [
    "eFromV(0.7, 0.5), eFromV(0.7, 0.9), eFromV(0.7, 1.3);"
   ]
  },
  {
   "cell_type": "code",
   "execution_count": null,
   "id": "b2db8f45-828f-4bc2-8e96-0663fd38fa36",
   "metadata": {},
   "outputs": [],
   "source": [
    "eFromV(0.7, 0.5);"
   ]
  },
  {
   "cell_type": "code",
   "execution_count": null,
   "id": "d45986a0-a2e5-4d95-a496-b2ccdb6f4408",
   "metadata": {},
   "outputs": [],
   "source": [
    "for v in 0.1:0.1:2.0\n",
    "    eFromV(v)\n",
    "end"
   ]
  },
  {
   "cell_type": "code",
   "execution_count": 4,
   "id": "7807934a-a124-4c24-96d8-58a09dd1780d",
   "metadata": {},
   "outputs": [
    {
     "ename": "LoadError",
     "evalue": "UndefVarError: `I` not defined",
     "output_type": "error",
     "traceback": [
      "UndefVarError: `I` not defined",
      "",
      "Stacktrace:",
      " [1] top-level scope",
      "   @ In[4]:1"
     ]
    }
   ],
   "source": [
    "1 + 1.0I"
   ]
  },
  {
   "cell_type": "code",
   "execution_count": null,
   "id": "5d3b3a35-4a47-4cc2-a758-41f86afcbc08",
   "metadata": {},
   "outputs": [],
   "source": []
  }
 ],
 "metadata": {
  "kernelspec": {
   "display_name": "Julia 1.9.2",
   "language": "julia",
   "name": "julia-1.9"
  },
  "language_info": {
   "file_extension": ".jl",
   "mimetype": "application/julia",
   "name": "julia",
   "version": "1.9.2"
  }
 },
 "nbformat": 4,
 "nbformat_minor": 5
}
