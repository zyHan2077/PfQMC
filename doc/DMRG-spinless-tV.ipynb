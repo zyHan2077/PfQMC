{
 "cells": [
  {
   "cell_type": "code",
   "execution_count": 1,
   "id": "8770f8de-563b-48da-90b3-e47898ef5fc6",
   "metadata": {},
   "outputs": [],
   "source": [
    "using ITensors"
   ]
  },
  {
   "cell_type": "markdown",
   "id": "8c530411-3b07-4f1b-b902-5f5d1e4afeec",
   "metadata": {},
   "source": [
    "# DMRG for spinless t-V on Honeycomb lattice"
   ]
  },
  {
   "cell_type": "code",
   "execution_count": 5,
   "id": "18314536-d483-4a90-a1e6-c001c97919b3",
   "metadata": {},
   "outputs": [],
   "source": [
    "Lx, Ly = 2, 2;\n",
    "t = 1.0;\n",
    "nTot = Lx*Ly*2\n",
    "sites = siteinds(\"Fermion\", Lx*Ly*2; conserve_qns=true);\n",
    "state = [\"Emp\" for n in 1:Lx*Ly*2]\n",
    "for i in 1:Lx*Ly\n",
    "    state[i] = \"Occ\" # start from half filled\n",
    "end\n",
    "\n",
    "psi0 = randomMPS(sites, state, 10);\n",
    "nsweeps = 6\n",
    "maxdim = [50, 100, 200, 400, 800, 800]\n",
    "cutoff = [1E-12];\n",
    "\n",
    "function site2Idx(ix, iy, iu)\n",
    "    return Lx*Ly*(iu) + (ix)*Ly + iy + 1\n",
    "end;"
   ]
  },
  {
   "cell_type": "code",
   "execution_count": 8,
   "id": "fd86c832-56d3-4857-92e9-4adce8948f96",
   "metadata": {},
   "outputs": [
    {
     "data": {
      "text/plain": [
       "eFromV (generic function with 1 method)"
      ]
     },
     "execution_count": 8,
     "metadata": {},
     "output_type": "execute_result"
    }
   ],
   "source": [
    "function eFromV(v)\n",
    "    os = OpSum();\n",
    "    for ix in 0:Lx-1\n",
    "        for iy in 0:Ly-1\n",
    "            os += -t, \"Cdag\", site2Idx(ix, iy, 0), \"C\", site2Idx(ix, iy, 1)\n",
    "            os += -t, \"Cdag\", site2Idx(ix, iy, 1), \"C\", site2Idx(ix, iy, 0)\n",
    "            os += -t, \"Cdag\", site2Idx(ix, iy, 0), \"C\", site2Idx((ix+1)%Lx, iy, 1)\n",
    "            os += -t, \"Cdag\", site2Idx((ix+1)%Lx, iy, 1), \"C\", site2Idx(ix, iy, 0)\n",
    "            os += -t, \"Cdag\", site2Idx(ix, iy, 0), \"C\", site2Idx(ix, (iy+1)%Ly, 1)\n",
    "            os += -t, \"Cdag\", site2Idx(ix, (iy+1)%Ly, 1), \"C\", site2Idx(ix, iy, 0)\n",
    "            os += v, \"N\", site2Idx(ix, iy, 0), \"N\", site2Idx(ix, iy, 1)\n",
    "            os += v, \"N\", site2Idx(ix, iy, 0), \"N\", site2Idx((ix+1)%Lx, iy, 1)\n",
    "            os += v, \"N\", site2Idx(ix, iy, 0), \"N\", site2Idx(ix, (iy+1)%Ly, 1)\n",
    "        end\n",
    "    end\n",
    "    H = MPO(os, sites);\n",
    "    energy, psi = dmrg(H, psi0; nsweeps, maxdim, cutoff, outputlevel = 0);\n",
    "    d = fill(0.0, Lx*Ly*2)\n",
    "    for j in 1:Lx*Ly*2\n",
    "        orthogonalize!(psi, j)\n",
    "        psidag_j = dag(prime(psi[j], \"Site\"))\n",
    "        d[j] = scalar(psidag_j * op(sites, \"N\", j) * psi[j])\n",
    "    end\n",
    "    # println(\"V=\", v, \" E=\", energy-0.375*nTot*v, \"\\ndensity=\", d)\n",
    "    println(\"V=\", v, \" E=\", energy-0.375*nTot*v)\n",
    "end"
   ]
  },
  {
   "cell_type": "code",
   "execution_count": 9,
   "id": "a61dee13-bda4-442b-914d-80c7e26d06e4",
   "metadata": {},
   "outputs": [
    {
     "name": "stdout",
     "output_type": "stream",
     "text": [
      "V=0.1 E=-6.077158208310034\n",
      "V=0.2 E=-6.1588317266270245\n",
      "V=0.3 E=-6.245325367750457\n",
      "V=0.4 E=-6.336949272411738\n",
      "V=0.5 E=-6.434013869095788\n",
      "V=0.6 E=-6.536823760926662\n",
      "V=0.7 E=-6.645670658480553\n",
      "V=0.8 E=-6.760825601737061\n",
      "V=0.9 E=-6.882530845058997\n",
      "V=1.0 E=-7.010991894885804\n",
      "V=1.1 E=-7.146370265492903\n",
      "V=1.2 E=-7.288777530218335\n",
      "V=1.3 E=-7.4382711794964695\n",
      "V=1.4 E=-7.594852653628715\n",
      "V=1.5 E=-7.758467715923196\n",
      "V=1.6 E=-7.929009103680209\n",
      "V=1.7 E=-8.106321179900274\n",
      "V=1.8 E=-8.29020614289281\n",
      "V=1.9 E=-8.480431256636262\n",
      "V=2.0 E=-8.676736547233341\n"
     ]
    }
   ],
   "source": [
    "for v in 0.1:0.1:2.0\n",
    "    eFromV(v)\n",
    "end"
   ]
  },
  {
   "cell_type": "markdown",
   "id": "2c0045d2-e0e7-498d-bac2-923d904098d6",
   "metadata": {},
   "source": [
    "# DMRG for spinless t-V on Square lattice"
   ]
  },
  {
   "cell_type": "code",
   "execution_count": 16,
   "id": "2edf363d-32f1-461d-86d8-c712d9139309",
   "metadata": {},
   "outputs": [],
   "source": [
    "Lx, Ly = 4, 6;\n",
    "t = 1.0;\n",
    "sites = siteinds(\"Fermion\", Lx*Ly; conserve_qns=true);\n",
    "state = [\"Emp\" for n in 1:Lx*Ly]\n",
    "for i in 1:Int(Lx*Ly/2)\n",
    "    state[i] = \"Occ\" # start from half filled\n",
    "end\n",
    "\n",
    "psi0 = randomMPS(sites, state, 10);\n",
    "nsweeps = 6\n",
    "maxdim = [50, 100, 200, 400, 800, 800]\n",
    "cutoff = [1E-12];\n",
    "\n",
    "function site2Idx(ix, iy)\n",
    "    return (ix)*Ly + iy + 1\n",
    "end;"
   ]
  },
  {
   "cell_type": "code",
   "execution_count": 17,
   "id": "eebc28fe-3791-495d-b55d-e46aa349c8f5",
   "metadata": {},
   "outputs": [
    {
     "data": {
      "text/plain": [
       "eFromV (generic function with 1 method)"
      ]
     },
     "execution_count": 17,
     "metadata": {},
     "output_type": "execute_result"
    }
   ],
   "source": [
    "function eFromV(v)\n",
    "    os = OpSum();\n",
    "    for ix in 0:Lx-1\n",
    "        for iy in 0:Ly-1\n",
    "            i, j1, j2 = site2Idx(ix, iy), site2Idx((ix+1)%Lx, iy), site2Idx(ix, (iy+1)%Ly)\n",
    "            \n",
    "            os += -t, \"Cdag\", i, \"C\", j1\n",
    "            os += -t, \"Cdag\", j1, \"C\", i\n",
    "            os += -t, \"Cdag\", i, \"C\", j2\n",
    "            os += -t, \"Cdag\", j2, \"C\", i\n",
    "\n",
    "            os += v, \"N\", i, \"N\", j1\n",
    "            os += v, \"N\", i, \"N\", j2\n",
    "        end\n",
    "    end\n",
    "    H = MPO(os, sites);\n",
    "    energy, psi = dmrg(H, psi0; nsweeps, maxdim, cutoff, outputlevel = 0);\n",
    "    d = fill(0.0, Lx*Ly*2)\n",
    "    for j in 1:Lx*Ly\n",
    "        orthogonalize!(psi, j)\n",
    "        psidag_j = dag(prime(psi[j], \"Site\"))\n",
    "        d[j] = scalar(psidag_j * op(sites, \"N\", j) * psi[j])\n",
    "    end\n",
    "    # println(\"V=\", v, \" E=\", energy-0.375*nTot*v, \"\\ndensity=\", d)\n",
    "    println(\"V=\", v, \" E=\", energy-0.5*Lx*Ly*v)\n",
    "end"
   ]
  },
  {
   "cell_type": "code",
   "execution_count": 18,
   "id": "d45986a0-a2e5-4d95-a496-b2ccdb6f4408",
   "metadata": {},
   "outputs": [
    {
     "name": "stdout",
     "output_type": "stream",
     "text": [
      "V=0.1 E=-20.22322224663647\n",
      "V=0.2 E=-20.4603335041311\n",
      "V=0.3 E=-20.71270344687231\n",
      "V=0.4 E=-20.98112574374815\n",
      "V=0.5 E=-21.272172070409923\n",
      "V=0.6 E=-21.587368572121747\n",
      "V=0.7 E=-21.934715820191105\n",
      "V=0.8 E=-22.324041043367636\n",
      "V=0.9 E=-22.764569888123837\n",
      "V=1.0 E=-23.266888663313026\n",
      "V=1.1 E=-23.829263540781007\n",
      "V=1.2 E=-24.45346444831486\n",
      "V=1.3 E=-25.136660992277136\n",
      "V=1.4 E=-25.86371631180001\n",
      "V=1.5 E=-26.635249840573902\n",
      "V=1.6 E=-27.44153925336677\n",
      "V=1.7 E=-28.282458379124684\n",
      "V=1.8 E=-29.150132974020753\n",
      "V=1.9 E=-30.044055867998246\n",
      "V=2.0 E=-30.960930985608186\n"
     ]
    }
   ],
   "source": [
    "for v in 0.1:0.1:2.0\n",
    "    eFromV(v)\n",
    "end"
   ]
  },
  {
   "cell_type": "code",
   "execution_count": null,
   "id": "7807934a-a124-4c24-96d8-58a09dd1780d",
   "metadata": {},
   "outputs": [],
   "source": []
  }
 ],
 "metadata": {
  "kernelspec": {
   "display_name": "Julia 1.9.2",
   "language": "julia",
   "name": "julia-1.9"
  },
  "language_info": {
   "file_extension": ".jl",
   "mimetype": "application/julia",
   "name": "julia",
   "version": "1.9.2"
  }
 },
 "nbformat": 4,
 "nbformat_minor": 5
}
